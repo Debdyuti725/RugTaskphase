{
 "cells": [
  {
   "cell_type": "code",
   "execution_count": 1,
   "id": "78e6f850-90a6-4342-b6e7-f4910c262b55",
   "metadata": {},
   "outputs": [
    {
     "name": "stdout",
     "output_type": "stream",
     "text": [
      "Jupyter environment detected. Enabling Open3D WebVisualizer.\n",
      "[Open3D INFO] WebRTC GUI backend enabled.\n",
      "[Open3D INFO] WebRTCWindowSystem: HTTP handshake server disabled.\n"
     ]
    }
   ],
   "source": [
    "import os\n",
    "import cv2\n",
    "import numpy as np\n",
    "import open3d as o3d"
   ]
  },
  {
   "cell_type": "code",
   "execution_count": 3,
   "id": "cfa9a052-79a1-4303-bb98-f32f7a2b35cd",
   "metadata": {},
   "outputs": [
    {
     "name": "stdout",
     "output_type": "stream",
     "text": [
      "Successfully loaded image: ./images\\desk_2_19.png\n",
      "Successfully loaded image: ./images\\desk_2_19_depth.png\n",
      "Successfully loaded image: ./images\\desk_2_20.png\n",
      "Successfully loaded image: ./images\\desk_2_20_depth.png\n",
      "Successfully loaded image: ./images\\desk_2_21.png\n",
      "Successfully loaded image: ./images\\desk_2_21_depth.png\n",
      "Successfully loaded image: ./images\\desk_2_22.png\n",
      "Successfully loaded image: ./images\\desk_2_22_depth.png\n",
      "Successfully loaded image: ./images\\desk_2_23.png\n",
      "Successfully loaded image: ./images\\desk_2_23_depth.png\n",
      "Successfully loaded image: ./images\\desk_2_24.png\n",
      "Successfully loaded image: ./images\\desk_2_24_depth.png\n"
     ]
    }
   ],
   "source": [
    "folder_path = \"./images\"\n",
    "\n",
    "# List PNG files in the folder\n",
    "png_files = [f for f in os.listdir(folder_path) if f.endswith('.png')]\n",
    "\n",
    "# Load images using OpenCV\n",
    "images = []\n",
    "images_path=[]\n",
    "for file in png_files:\n",
    "    image_path = os.path.join(folder_path, file)\n",
    "    image = cv2.imread(image_path)\n",
    "    # Check if image is loaded correctly\n",
    "    if image is None:\n",
    "        print(f\"Failed to load image: {image_path}\")\n",
    "    else:\n",
    "        print(f\"Successfully loaded image: {image_path}\")\n",
    "        images.append(image)\n",
    "        images_path.append(image_path)"
   ]
  },
  {
   "cell_type": "code",
   "execution_count": 5,
   "id": "93d6d5d2-0709-4830-9c15-eb4d2fc8b17f",
   "metadata": {},
   "outputs": [],
   "source": [
    "base_path = \"./images\"\n",
    "start_idx = 19\n",
    "end_idx = 24\n",
    "voxel_size = 0.02\n",
    "max_correspondence_distance_coarse = voxel_size * 15\n",
    "max_correspondence_distance_fine = voxel_size * 1.5\n",
    "\n",
    "intrinsic = o3d.camera.PinholeCameraIntrinsic(\n",
    "    o3d.camera.PinholeCameraIntrinsicParameters.PrimeSenseDefault)\n",
    "\n",
    "\n",
    "def load_rgbd(index):\n",
    "    color = o3d.io.read_image(f\"{base_path}/desk_2_{index}.png\")\n",
    "    depth = o3d.io.read_image(f\"{base_path}/desk_2_{index}_depth.png\")\n",
    "    return o3d.geometry.RGBDImage.create_from_color_and_depth(\n",
    "        color, depth, depth_trunc=1.5, convert_rgb_to_intensity=False)\n",
    "\n",
    "def create_point_cloud(rgbd):\n",
    "    pcd = o3d.geometry.PointCloud.create_from_rgbd_image(rgbd, intrinsic)\n",
    "    pcd.estimate_normals()\n",
    "    return pcd\n",
    "\n",
    "def pairwise_registration(source, target):\n",
    "    print(\"Running pairwise point-to-plane ICP\")\n",
    "    icp_coarse = o3d.pipelines.registration.registration_icp(\n",
    "        source, target, max_correspondence_distance_coarse, np.identity(4),\n",
    "        o3d.pipelines.registration.TransformationEstimationPointToPlane())\n",
    "    \n",
    "    icp_fine = o3d.pipelines.registration.registration_icp(\n",
    "        source, target, max_correspondence_distance_fine, icp_coarse.transformation,\n",
    "        o3d.pipelines.registration.TransformationEstimationPointToPlane())\n",
    "    \n",
    "    transformation_icp = icp_fine.transformation\n",
    "    information_icp = o3d.pipelines.registration.get_information_matrix_from_point_clouds(\n",
    "        source, target, max_correspondence_distance_fine, transformation_icp)\n",
    "    #TransformationEstimationPointToPlane() specifies the type of ICP. The point-to-plane method aligns the point clouds based on the closest points' normals, rather than just point-to-point distances. This is more accurate when the point clouds have smooth surfaces and you want to align them based on surface geometry.\n",
    "    \n",
    "    return transformation_icp, information_icp\n",
    "\n",
    "def full_registration(pcds):\n",
    "    pose_graph = o3d.pipelines.registration.PoseGraph()\n",
    "    odometry = np.identity(4)\n",
    "    pose_graph.nodes.append(o3d.pipelines.registration.PoseGraphNode(odometry))\n",
    "    n_pcds = len(pcds)\n",
    "\n",
    "    for source_id in range(n_pcds):\n",
    "        for target_id in range(source_id + 1, n_pcds):\n",
    "            print(f\"Registering pair {start_idx + source_id} → {start_idx + target_id}\")\n",
    "            transformation_icp, information_icp = pairwise_registration(\n",
    "                pcds[source_id], pcds[target_id])\n",
    "\n",
    "            if target_id == source_id + 1:  \n",
    "                odometry = transformation_icp @ odometry\n",
    "                pose_graph.nodes.append(o3d.pipelines.registration.PoseGraphNode(np.linalg.inv(odometry)))\n",
    "                pose_graph.edges.append(o3d.pipelines.registration.PoseGraphEdge(\n",
    "                    source_id, target_id, transformation_icp, information_icp, uncertain=False))\n",
    "            else:  # loop closure\n",
    "                pose_graph.edges.append(o3d.pipelines.registration.PoseGraphEdge(\n",
    "                    source_id, target_id, transformation_icp, information_icp, uncertain=True))\n",
    "\n",
    "    return pose_graph\n",
    "\n",
    "def integrate_rgbd_frames(rgbd_images, pose_graph):\n",
    "    volume = o3d.pipelines.integration.ScalableTSDFVolume(\n",
    "        voxel_length=voxel_size / 2.0,\n",
    "        sdf_trunc=0.04,\n",
    "        color_type=o3d.pipelines.integration.TSDFVolumeColorType.RGB8)\n",
    "\n",
    "    for i in range(len(rgbd_images)):\n",
    "        print(f\"Integrating frame {start_idx + i}\")\n",
    "        pose = pose_graph.nodes[i].pose\n",
    "        volume.integrate(rgbd_images[i], intrinsic, np.linalg.inv(pose))\n",
    "\n",
    "    return volume.extract_point_cloud()\n",
    "\n",
    "\n",
    "\n"
   ]
  },
  {
   "cell_type": "markdown",
   "id": "8985bea6-1bdf-4926-bb5d-9ad6985147b6",
   "metadata": {},
   "source": [
    "An information matrix is a measure of how well the points from two point clouds correspond to each other during a registration process like ICP. It's essentially used to represent the uncertainty of the alignment or transformation between two point clouds. The higher the value in the information matrix, the more confident the registration is in aligning corresponding points. This matrix is especially useful when performing global registration or non-rigid transformations, where the system needs to take into account uncertainty and error."
   ]
  },
  {
   "cell_type": "code",
   "execution_count": 7,
   "id": "22829277-f02e-4b88-aae4-b6733dbe4c44",
   "metadata": {},
   "outputs": [
    {
     "name": "stdout",
     "output_type": "stream",
     "text": [
      "Loading RGBD frames...\n",
      "\n",
      "Building pose graph using pairwise ICP...\n",
      "Registering pair 19 → 20\n",
      "Running pairwise point-to-plane ICP\n",
      "Registering pair 19 → 21\n",
      "Running pairwise point-to-plane ICP\n",
      "Registering pair 19 → 22\n",
      "Running pairwise point-to-plane ICP\n",
      "Registering pair 19 → 23\n",
      "Running pairwise point-to-plane ICP\n",
      "Registering pair 19 → 24\n",
      "Running pairwise point-to-plane ICP\n",
      "Registering pair 20 → 21\n",
      "Running pairwise point-to-plane ICP\n",
      "Registering pair 20 → 22\n",
      "Running pairwise point-to-plane ICP\n",
      "Registering pair 20 → 23\n",
      "Running pairwise point-to-plane ICP\n",
      "Registering pair 20 → 24\n",
      "Running pairwise point-to-plane ICP\n",
      "Registering pair 21 → 22\n",
      "Running pairwise point-to-plane ICP\n",
      "Registering pair 21 → 23\n",
      "Running pairwise point-to-plane ICP\n",
      "Registering pair 21 → 24\n",
      "Running pairwise point-to-plane ICP\n",
      "Registering pair 22 → 23\n",
      "Running pairwise point-to-plane ICP\n",
      "Registering pair 22 → 24\n",
      "Running pairwise point-to-plane ICP\n",
      "Registering pair 23 → 24\n",
      "Running pairwise point-to-plane ICP\n",
      "\n",
      "Optimizing pose graph...\n",
      "\n",
      "Integrating RGBD frames to create final point cloud...\n",
      "Integrating frame 19\n",
      "Integrating frame 20\n",
      "Integrating frame 21\n",
      "Integrating frame 22\n",
      "Integrating frame 23\n",
      "Integrating frame 24\n"
     ]
    }
   ],
   "source": [
    "print(\"Loading RGBD frames...\")\n",
    "rgbd_images = [load_rgbd(i) for i in range(start_idx, end_idx + 1)]\n",
    "pcds = [create_point_cloud(rgbd) for rgbd in rgbd_images] #indivisual pcd list\n",
    "\n",
    "print(\"\\nBuilding pose graph using pairwise ICP...\")\n",
    "pose_graph = full_registration(pcds)\n",
    "\n",
    "print(\"\\nOptimizing pose graph...\")\n",
    "o3d.pipelines.registration.global_optimization(\n",
    "    pose_graph,\n",
    "    o3d.pipelines.registration.GlobalOptimizationLevenbergMarquardt(),\n",
    "    o3d.pipelines.registration.GlobalOptimizationConvergenceCriteria(),\n",
    "    o3d.pipelines.registration.GlobalOptimizationOption(\n",
    "        max_correspondence_distance=max_correspondence_distance_fine,\n",
    "        edge_prune_threshold=0.25,\n",
    "        reference_node=0))\n",
    "\n",
    "print(\"\\nIntegrating RGBD frames to create final point cloud...\")\n",
    "pcd_combined = integrate_rgbd_frames(rgbd_images, pose_graph)\n",
    "\n"
   ]
  },
  {
   "cell_type": "code",
   "execution_count": 9,
   "id": "d9b2688b-44c9-416b-ab2c-bc1208e6b185",
   "metadata": {},
   "outputs": [],
   "source": [
    "pcd_combined.transform([[1,0,0,0],[0,-1,0,0],[0,0,-1,0],[0,0,0,1]])\n",
    "o3d.visualization.draw_geometries([pcd_combined])"
   ]
  },
  {
   "cell_type": "code",
   "execution_count": 11,
   "id": "374f88bf-1320-479b-856e-4647860abe64",
   "metadata": {},
   "outputs": [],
   "source": [
    "def segment_plane(pcd, distance_threshold=0.01, ransac_n=3, num_iterations=1000):\n",
    "    # Perform plane segmentation\n",
    "    plane_model, inlier_indices = pcd.segment_plane(distance_threshold, ransac_n, num_iterations)\n",
    "   \n",
    "    # Extract inlier points (points on the plane)\n",
    "    inlier_cloud = pcd.select_by_index(inlier_indices)\n",
    "    inlier_cloud.paint_uniform_color([1.0, 0, 0])\n",
    "    # Extract outlier points (points not on the plane)\n",
    "    outlier_cloud = pcd.select_by_index(inlier_indices, invert=True)\n",
    "    \n",
    "    return inlier_cloud, outlier_cloud, plane_model"
   ]
  },
  {
   "cell_type": "code",
   "execution_count": 13,
   "id": "3c6c57de-504e-418e-ad54-70abd1b32171",
   "metadata": {},
   "outputs": [],
   "source": [
    "inlier_cloud, outlier_cloud, plane_model = segment_plane(pcd_combined)\n",
    "\n"
   ]
  },
  {
   "cell_type": "code",
   "execution_count": 15,
   "id": "4a395f75-ed48-4a1b-961d-ab9b2729c1b2",
   "metadata": {},
   "outputs": [
    {
     "name": "stdout",
     "output_type": "stream",
     "text": [
      "Plane model:  [0.01924708 0.78819605 0.61512318 0.53027395]\n"
     ]
    }
   ],
   "source": [
    "print(\"Plane model: \", plane_model)\n",
    "o3d.visualization.draw_geometries([inlier_cloud, outlier_cloud])"
   ]
  },
  {
   "cell_type": "code",
   "execution_count": 17,
   "id": "c1ca31b1-1624-40c2-8dbe-bc8ac3844282",
   "metadata": {},
   "outputs": [],
   "source": [
    "o3d.visualization.draw_geometries([ outlier_cloud])"
   ]
  },
  {
   "cell_type": "code",
   "execution_count": 19,
   "id": "a7a6e794-24fd-423a-a9d8-828b33af8ee3",
   "metadata": {},
   "outputs": [
    {
     "name": "stdout",
     "output_type": "stream",
     "text": [
      "Plane model:  [0.01924708 0.78819605 0.61512318 0.53027395]\n"
     ]
    }
   ],
   "source": [
    "print(\"Plane model: \", plane_model)\n",
    "outlier_cloud1=outlier_cloud.paint_uniform_color([0.0, 0.0, 0.0])\n",
    "o3d.visualization.draw_geometries([ outlier_cloud1])"
   ]
  },
  {
   "cell_type": "code",
   "execution_count": 21,
   "id": "5f0a5131-9abc-4989-9ed7-5009b7fa8db4",
   "metadata": {},
   "outputs": [],
   "source": [
    "def dbscan_clustering(pcd, eps=0.05, min_points=10):\n",
    "    # Convert point cloud to numpy array\n",
    "    points = np.asarray(pcd.points)\n",
    "    \n",
    "    # Apply DBSCAN clustering using sklearn\n",
    "    from sklearn.cluster import DBSCAN\n",
    "    db = DBSCAN(eps=eps, min_samples=min_points).fit(points)\n",
    "    \n",
    "    # Labels for each point in the point cloud\n",
    "    labels = db.labels_\n",
    "    \n",
    "    # Create a list of point clouds for each cluster\n",
    "    clusters = []\n",
    "    unique_labels = np.unique(labels)\n",
    "    \n",
    "    for label in unique_labels:\n",
    "        for label in unique_labels:\n",
    "        # Create a point cloud for each cluster (including noise points labeled as -1)\n",
    "            cluster_points = points[labels == label]\n",
    "            cluster_pcd = o3d.geometry.PointCloud()\n",
    "            cluster_pcd.points = o3d.utility.Vector3dVector(cluster_points)\n",
    "        \n",
    "        # Optionally, color the points in the cluster\n",
    "        if label == -1:\n",
    "            cluster_pcd.paint_uniform_color([0, 0, 0])  # Noise points (optional, can change color)\n",
    "        else:\n",
    "            # Assign a random color to each cluster\n",
    "            cluster_pcd.paint_uniform_color(np.random.rand(3))\n",
    "        \n",
    "        clusters.append(cluster_pcd)\n",
    "    \n",
    "    return clusters\n",
    "\n"
   ]
  },
  {
   "cell_type": "code",
   "execution_count": 29,
   "id": "bb417b8d-1d3b-4e53-b266-317d7093a8ae",
   "metadata": {},
   "outputs": [],
   "source": [
    "clusters = dbscan_clustering(outlier_cloud, eps=0.05, min_points=10)\n",
    "\n",
    "\n",
    "o3d.visualization.draw_geometries(clusters)"
   ]
  },
  {
   "cell_type": "code",
   "execution_count": null,
   "id": "876a9c63-e755-448c-8bf6-653b73ceb412",
   "metadata": {},
   "outputs": [],
   "source": [
    "import matplotlib.pyplot as plt\n",
    "pcd=outlier_cloud\n",
    "\n",
    "labels = np.array(pcd.cluster_dbscan(eps=0.02, min_points=10, print_progress=True))\n",
    "\n",
    "max_label = labels.max()\n",
    "print(f\"Point cloud has {max_label + 1} clusters\")\n",
    "\n",
    "colors = plt.get_cmap(\"tab20\")(labels / (max_label if max_label > 0 else 1))\n",
    "colors[labels < 0] = 0\n",
    "pcd.colors = o3d.utility.Vector3dVector(colors[:, :3])\n",
    "\n",
    "o3d.visualization.draw_geometries([pcd])\n",
    "\n"
   ]
  },
  {
   "cell_type": "code",
   "execution_count": 33,
   "id": "7ed051a9-31da-4595-9a72-7cabd7613200",
   "metadata": {},
   "outputs": [
    {
     "name": "stdout",
     "output_type": "stream",
     "text": [
      "Point cloud has 21 clusters\n"
     ]
    }
   ],
   "source": [
    "import matplotlib.pyplot as plt\n",
    "pcd=outlier_cloud\n",
    "\n",
    "labels = np.array(pcd.cluster_dbscan(eps=0.02, min_points=5, print_progress=True))\n",
    "\n",
    "max_label = labels.max()\n",
    "print(f\"Point cloud has {max_label + 1} clusters\")\n",
    "\n",
    "colors = plt.get_cmap(\"tab20\")(labels / (max_label if max_label > 0 else 1))\n",
    "colors[labels < 0] = 0\n",
    "pcd.colors = o3d.utility.Vector3dVector(colors[:, :3])\n",
    "\n",
    "o3d.visualization.draw_geometries([pcd])\n"
   ]
  },
  {
   "cell_type": "code",
   "execution_count": 35,
   "id": "bfd392da-f2fe-4616-9dea-b540cdc2ab74",
   "metadata": {},
   "outputs": [],
   "source": [
    "#clusters as different point clouds\n",
    "\n",
    "clusters = []\n",
    "for i in range(max_label + 1):\n",
    "    cluster_points = pcd.select_by_index(np.where(labels == i)[0])\n",
    "    clusters.append(cluster_points)\n",
    "    o3d.visualization.draw_geometries([cluster_points])\n",
    "\n",
    "for i, cluster in enumerate(clusters):\n",
    "    o3d.io.write_point_cloud(f\"cluster_{i}.ply\", cluster)"
   ]
  },
  {
   "cell_type": "code",
   "execution_count": null,
   "id": "39922534-e719-4348-ac5b-1844b234a1e9",
   "metadata": {},
   "outputs": [],
   "source": []
  }
 ],
 "metadata": {
  "kernelspec": {
   "display_name": "Python 3 (ipykernel)",
   "language": "python",
   "name": "python3"
  },
  "language_info": {
   "codemirror_mode": {
    "name": "ipython",
    "version": 3
   },
   "file_extension": ".py",
   "mimetype": "text/x-python",
   "name": "python",
   "nbconvert_exporter": "python",
   "pygments_lexer": "ipython3",
   "version": "3.12.4"
  }
 },
 "nbformat": 4,
 "nbformat_minor": 5
}
