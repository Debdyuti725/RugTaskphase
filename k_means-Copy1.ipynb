{
 "cells": [
  {
   "cell_type": "code",
   "execution_count": 3,
   "id": "806e9efb-05c0-4b76-b289-8840fb348761",
   "metadata": {},
   "outputs": [],
   "source": [
    "import pandas as pd\n",
    "import numpy as np\n",
    "import matplotlib.pyplot as plt"
   ]
  },
  {
   "cell_type": "code",
   "execution_count": 4,
   "id": "dee6ab8c-319f-494c-9b07-b5006c2ed452",
   "metadata": {},
   "outputs": [
    {
     "data": {
      "text/html": [
       "<div>\n",
       "<style scoped>\n",
       "    .dataframe tbody tr th:only-of-type {\n",
       "        vertical-align: middle;\n",
       "    }\n",
       "\n",
       "    .dataframe tbody tr th {\n",
       "        vertical-align: top;\n",
       "    }\n",
       "\n",
       "    .dataframe thead th {\n",
       "        text-align: right;\n",
       "    }\n",
       "</style>\n",
       "<table border=\"1\" class=\"dataframe\">\n",
       "  <thead>\n",
       "    <tr style=\"text-align: right;\">\n",
       "      <th></th>\n",
       "      <th>culmen_length_mm</th>\n",
       "      <th>culmen_depth_mm</th>\n",
       "      <th>flipper_length_mm</th>\n",
       "      <th>body_mass_g</th>\n",
       "      <th>sex</th>\n",
       "    </tr>\n",
       "  </thead>\n",
       "  <tbody>\n",
       "    <tr>\n",
       "      <th>80</th>\n",
       "      <td>34.6</td>\n",
       "      <td>17.2</td>\n",
       "      <td>189.0</td>\n",
       "      <td>3200.0</td>\n",
       "      <td>FEMALE</td>\n",
       "    </tr>\n",
       "    <tr>\n",
       "      <th>23</th>\n",
       "      <td>38.2</td>\n",
       "      <td>18.1</td>\n",
       "      <td>185.0</td>\n",
       "      <td>3950.0</td>\n",
       "      <td>MALE</td>\n",
       "    </tr>\n",
       "    <tr>\n",
       "      <th>178</th>\n",
       "      <td>50.5</td>\n",
       "      <td>18.4</td>\n",
       "      <td>200.0</td>\n",
       "      <td>3400.0</td>\n",
       "      <td>FEMALE</td>\n",
       "    </tr>\n",
       "    <tr>\n",
       "      <th>304</th>\n",
       "      <td>44.9</td>\n",
       "      <td>13.8</td>\n",
       "      <td>212.0</td>\n",
       "      <td>4750.0</td>\n",
       "      <td>FEMALE</td>\n",
       "    </tr>\n",
       "    <tr>\n",
       "      <th>84</th>\n",
       "      <td>37.3</td>\n",
       "      <td>17.8</td>\n",
       "      <td>191.0</td>\n",
       "      <td>3350.0</td>\n",
       "      <td>FEMALE</td>\n",
       "    </tr>\n",
       "  </tbody>\n",
       "</table>\n",
       "</div>"
      ],
      "text/plain": [
       "     culmen_length_mm  culmen_depth_mm  flipper_length_mm  body_mass_g     sex\n",
       "80               34.6             17.2              189.0       3200.0  FEMALE\n",
       "23               38.2             18.1              185.0       3950.0    MALE\n",
       "178              50.5             18.4              200.0       3400.0  FEMALE\n",
       "304              44.9             13.8              212.0       4750.0  FEMALE\n",
       "84               37.3             17.8              191.0       3350.0  FEMALE"
      ]
     },
     "execution_count": 4,
     "metadata": {},
     "output_type": "execute_result"
    }
   ],
   "source": [
    "df=pd.read_csv('penguins.csv')\n",
    "df.sample(5)"
   ]
  },
  {
   "cell_type": "code",
   "execution_count": 5,
   "id": "723c4a7d-62e4-4c22-81d4-28412b1c210f",
   "metadata": {},
   "outputs": [
    {
     "data": {
      "text/plain": [
       "culmen_length_mm     2\n",
       "culmen_depth_mm      2\n",
       "flipper_length_mm    2\n",
       "body_mass_g          2\n",
       "sex                  9\n",
       "dtype: int64"
      ]
     },
     "execution_count": 5,
     "metadata": {},
     "output_type": "execute_result"
    }
   ],
   "source": [
    "df.isnull().sum()"
   ]
  },
  {
   "cell_type": "code",
   "execution_count": 6,
   "id": "d3bf7931-ef5a-40d7-85d7-88cadc17c043",
   "metadata": {},
   "outputs": [
    {
     "data": {
      "text/plain": [
       "culmen_length_mm     0\n",
       "culmen_depth_mm      0\n",
       "flipper_length_mm    0\n",
       "body_mass_g          0\n",
       "sex                  7\n",
       "dtype: int64"
      ]
     },
     "execution_count": 6,
     "metadata": {},
     "output_type": "execute_result"
    }
   ],
   "source": [
    "df = df.dropna(how='all')\n",
    "df.isnull().sum()\n"
   ]
  },
  {
   "cell_type": "code",
   "execution_count": 7,
   "id": "df123d56-8e34-4936-8cc1-7e60289b13ad",
   "metadata": {},
   "outputs": [
    {
     "data": {
      "text/html": [
       "<div>\n",
       "<style scoped>\n",
       "    .dataframe tbody tr th:only-of-type {\n",
       "        vertical-align: middle;\n",
       "    }\n",
       "\n",
       "    .dataframe tbody tr th {\n",
       "        vertical-align: top;\n",
       "    }\n",
       "\n",
       "    .dataframe thead th {\n",
       "        text-align: right;\n",
       "    }\n",
       "</style>\n",
       "<table border=\"1\" class=\"dataframe\">\n",
       "  <thead>\n",
       "    <tr style=\"text-align: right;\">\n",
       "      <th></th>\n",
       "      <th>culmen_length_mm</th>\n",
       "      <th>culmen_depth_mm</th>\n",
       "      <th>flipper_length_mm</th>\n",
       "      <th>body_mass_g</th>\n",
       "      <th>sex_n</th>\n",
       "    </tr>\n",
       "  </thead>\n",
       "  <tbody>\n",
       "    <tr>\n",
       "      <th>0</th>\n",
       "      <td>39.1</td>\n",
       "      <td>18.7</td>\n",
       "      <td>181.0</td>\n",
       "      <td>3750.0</td>\n",
       "      <td>2</td>\n",
       "    </tr>\n",
       "    <tr>\n",
       "      <th>1</th>\n",
       "      <td>39.5</td>\n",
       "      <td>17.4</td>\n",
       "      <td>186.0</td>\n",
       "      <td>3800.0</td>\n",
       "      <td>1</td>\n",
       "    </tr>\n",
       "    <tr>\n",
       "      <th>2</th>\n",
       "      <td>40.3</td>\n",
       "      <td>18.0</td>\n",
       "      <td>195.0</td>\n",
       "      <td>3250.0</td>\n",
       "      <td>1</td>\n",
       "    </tr>\n",
       "    <tr>\n",
       "      <th>4</th>\n",
       "      <td>36.7</td>\n",
       "      <td>19.3</td>\n",
       "      <td>193.0</td>\n",
       "      <td>3450.0</td>\n",
       "      <td>1</td>\n",
       "    </tr>\n",
       "    <tr>\n",
       "      <th>5</th>\n",
       "      <td>39.3</td>\n",
       "      <td>20.6</td>\n",
       "      <td>190.0</td>\n",
       "      <td>3650.0</td>\n",
       "      <td>2</td>\n",
       "    </tr>\n",
       "  </tbody>\n",
       "</table>\n",
       "</div>"
      ],
      "text/plain": [
       "   culmen_length_mm  culmen_depth_mm  flipper_length_mm  body_mass_g  sex_n\n",
       "0              39.1             18.7              181.0       3750.0      2\n",
       "1              39.5             17.4              186.0       3800.0      1\n",
       "2              40.3             18.0              195.0       3250.0      1\n",
       "4              36.7             19.3              193.0       3450.0      1\n",
       "5              39.3             20.6              190.0       3650.0      2"
      ]
     },
     "execution_count": 7,
     "metadata": {},
     "output_type": "execute_result"
    }
   ],
   "source": [
    "inputs=df\n",
    "from sklearn.preprocessing import LabelEncoder\n",
    "sex_encoder=LabelEncoder()\n",
    "inputs['sex_n'] = sex_encoder.fit_transform(inputs['sex'])\n",
    "inputs=inputs.drop(\"sex\",axis=1)\n",
    "inputs.head()"
   ]
  },
  {
   "cell_type": "code",
   "execution_count": 8,
   "id": "a5f24959-3e36-4786-8096-0e22a237765a",
   "metadata": {},
   "outputs": [
    {
     "data": {
      "text/plain": [
       "culmen_length_mm     0\n",
       "culmen_depth_mm      0\n",
       "flipper_length_mm    0\n",
       "body_mass_g          0\n",
       "sex_n                0\n",
       "dtype: int64"
      ]
     },
     "execution_count": 8,
     "metadata": {},
     "output_type": "execute_result"
    }
   ],
   "source": [
    "inputs = inputs.dropna(how='all')\n",
    "inputs.isnull().sum()"
   ]
  },
  {
   "cell_type": "code",
   "execution_count": 12,
   "id": "7ea63705-573d-4172-802a-e2b4447d4446",
   "metadata": {},
   "outputs": [
    {
     "data": {
      "text/html": [
       "<div>\n",
       "<style scoped>\n",
       "    .dataframe tbody tr th:only-of-type {\n",
       "        vertical-align: middle;\n",
       "    }\n",
       "\n",
       "    .dataframe tbody tr th {\n",
       "        vertical-align: top;\n",
       "    }\n",
       "\n",
       "    .dataframe thead th {\n",
       "        text-align: right;\n",
       "    }\n",
       "</style>\n",
       "<table border=\"1\" class=\"dataframe\">\n",
       "  <thead>\n",
       "    <tr style=\"text-align: right;\">\n",
       "      <th></th>\n",
       "      <th>culmen_length_mm</th>\n",
       "      <th>culmen_depth_mm</th>\n",
       "      <th>flipper_length_mm</th>\n",
       "      <th>body_mass_g</th>\n",
       "      <th>sex_n</th>\n",
       "    </tr>\n",
       "  </thead>\n",
       "  <tbody>\n",
       "    <tr>\n",
       "      <th>count</th>\n",
       "      <td>342.000000</td>\n",
       "      <td>342.000000</td>\n",
       "      <td>342.000000</td>\n",
       "      <td>342.000000</td>\n",
       "      <td>342.000000</td>\n",
       "    </tr>\n",
       "    <tr>\n",
       "      <th>mean</th>\n",
       "      <td>43.921930</td>\n",
       "      <td>17.151170</td>\n",
       "      <td>214.014620</td>\n",
       "      <td>4201.754386</td>\n",
       "      <td>1.532164</td>\n",
       "    </tr>\n",
       "    <tr>\n",
       "      <th>std</th>\n",
       "      <td>5.459584</td>\n",
       "      <td>1.974793</td>\n",
       "      <td>260.558057</td>\n",
       "      <td>801.954536</td>\n",
       "      <td>0.544625</td>\n",
       "    </tr>\n",
       "    <tr>\n",
       "      <th>min</th>\n",
       "      <td>32.100000</td>\n",
       "      <td>13.100000</td>\n",
       "      <td>-132.000000</td>\n",
       "      <td>2700.000000</td>\n",
       "      <td>0.000000</td>\n",
       "    </tr>\n",
       "    <tr>\n",
       "      <th>25%</th>\n",
       "      <td>39.225000</td>\n",
       "      <td>15.600000</td>\n",
       "      <td>190.000000</td>\n",
       "      <td>3550.000000</td>\n",
       "      <td>1.000000</td>\n",
       "    </tr>\n",
       "    <tr>\n",
       "      <th>50%</th>\n",
       "      <td>44.450000</td>\n",
       "      <td>17.300000</td>\n",
       "      <td>197.000000</td>\n",
       "      <td>4050.000000</td>\n",
       "      <td>2.000000</td>\n",
       "    </tr>\n",
       "    <tr>\n",
       "      <th>75%</th>\n",
       "      <td>48.500000</td>\n",
       "      <td>18.700000</td>\n",
       "      <td>213.750000</td>\n",
       "      <td>4750.000000</td>\n",
       "      <td>2.000000</td>\n",
       "    </tr>\n",
       "    <tr>\n",
       "      <th>max</th>\n",
       "      <td>59.600000</td>\n",
       "      <td>21.500000</td>\n",
       "      <td>5000.000000</td>\n",
       "      <td>6300.000000</td>\n",
       "      <td>3.000000</td>\n",
       "    </tr>\n",
       "  </tbody>\n",
       "</table>\n",
       "</div>"
      ],
      "text/plain": [
       "       culmen_length_mm  culmen_depth_mm  flipper_length_mm  body_mass_g  \\\n",
       "count        342.000000       342.000000         342.000000   342.000000   \n",
       "mean          43.921930        17.151170         214.014620  4201.754386   \n",
       "std            5.459584         1.974793         260.558057   801.954536   \n",
       "min           32.100000        13.100000        -132.000000  2700.000000   \n",
       "25%           39.225000        15.600000         190.000000  3550.000000   \n",
       "50%           44.450000        17.300000         197.000000  4050.000000   \n",
       "75%           48.500000        18.700000         213.750000  4750.000000   \n",
       "max           59.600000        21.500000        5000.000000  6300.000000   \n",
       "\n",
       "            sex_n  \n",
       "count  342.000000  \n",
       "mean     1.532164  \n",
       "std      0.544625  \n",
       "min      0.000000  \n",
       "25%      1.000000  \n",
       "50%      2.000000  \n",
       "75%      2.000000  \n",
       "max      3.000000  "
      ]
     },
     "execution_count": 12,
     "metadata": {},
     "output_type": "execute_result"
    }
   ],
   "source": [
    "inputs.describe()"
   ]
  },
  {
   "cell_type": "markdown",
   "id": "25850ec4-5af7-4962-99ce-6c80525c4591",
   "metadata": {},
   "source": [
    "### Scaling data"
   ]
  },
  {
   "cell_type": "code",
   "execution_count": 15,
   "id": "3ccf1e97-10f7-424d-87e6-25ad04064796",
   "metadata": {},
   "outputs": [],
   "source": [
    "def min_max(data):\n",
    "    #min=np.min(data)\n",
    "    #max=np.max(data)\n",
    "    #scaled_data=((data-min) /(max-min))*9+1\n",
    "    data=(((data-data.min())*9)/(data.max()-data.min()))+1\n",
    "    return data"
   ]
  },
  {
   "cell_type": "code",
   "execution_count": 16,
   "id": "48a6e608-b0b5-4817-bda8-7866ac9f63b1",
   "metadata": {},
   "outputs": [],
   "source": [
    "def z2(data):\n",
    "    mean=np.mean(data)\n",
    "    dev=np.std(data)\n",
    "    scaled_data=(data-mean)/dev\n",
    "    return scaled_data"
   ]
  },
  {
   "cell_type": "code",
   "execution_count": 17,
   "id": "d8161e4d-12be-44e1-8c2f-414c6a7919d4",
   "metadata": {},
   "outputs": [
    {
     "data": {
      "text/html": [
       "<div>\n",
       "<style scoped>\n",
       "    .dataframe tbody tr th:only-of-type {\n",
       "        vertical-align: middle;\n",
       "    }\n",
       "\n",
       "    .dataframe tbody tr th {\n",
       "        vertical-align: top;\n",
       "    }\n",
       "\n",
       "    .dataframe thead th {\n",
       "        text-align: right;\n",
       "    }\n",
       "</style>\n",
       "<table border=\"1\" class=\"dataframe\">\n",
       "  <thead>\n",
       "    <tr style=\"text-align: right;\">\n",
       "      <th></th>\n",
       "      <th>culmen_length_mm</th>\n",
       "      <th>culmen_depth_mm</th>\n",
       "      <th>flipper_length_mm</th>\n",
       "      <th>body_mass_g</th>\n",
       "      <th>sex_n</th>\n",
       "    </tr>\n",
       "  </thead>\n",
       "  <tbody>\n",
       "    <tr>\n",
       "      <th>count</th>\n",
       "      <td>342.000000</td>\n",
       "      <td>342.000000</td>\n",
       "      <td>342.000000</td>\n",
       "      <td>342.000000</td>\n",
       "      <td>342.000000</td>\n",
       "    </tr>\n",
       "    <tr>\n",
       "      <th>mean</th>\n",
       "      <td>4.868995</td>\n",
       "      <td>5.340539</td>\n",
       "      <td>1.606807</td>\n",
       "      <td>4.754386</td>\n",
       "      <td>5.596491</td>\n",
       "    </tr>\n",
       "    <tr>\n",
       "      <th>std</th>\n",
       "      <td>1.786773</td>\n",
       "      <td>2.115850</td>\n",
       "      <td>0.456941</td>\n",
       "      <td>2.004886</td>\n",
       "      <td>1.633875</td>\n",
       "    </tr>\n",
       "    <tr>\n",
       "      <th>min</th>\n",
       "      <td>1.000000</td>\n",
       "      <td>1.000000</td>\n",
       "      <td>1.000000</td>\n",
       "      <td>1.000000</td>\n",
       "      <td>1.000000</td>\n",
       "    </tr>\n",
       "    <tr>\n",
       "      <th>25%</th>\n",
       "      <td>3.331818</td>\n",
       "      <td>3.678571</td>\n",
       "      <td>1.564692</td>\n",
       "      <td>3.125000</td>\n",
       "      <td>4.000000</td>\n",
       "    </tr>\n",
       "    <tr>\n",
       "      <th>50%</th>\n",
       "      <td>5.041818</td>\n",
       "      <td>5.500000</td>\n",
       "      <td>1.576968</td>\n",
       "      <td>4.375000</td>\n",
       "      <td>7.000000</td>\n",
       "    </tr>\n",
       "    <tr>\n",
       "      <th>75%</th>\n",
       "      <td>6.367273</td>\n",
       "      <td>7.000000</td>\n",
       "      <td>1.606343</td>\n",
       "      <td>6.125000</td>\n",
       "      <td>7.000000</td>\n",
       "    </tr>\n",
       "    <tr>\n",
       "      <th>max</th>\n",
       "      <td>10.000000</td>\n",
       "      <td>10.000000</td>\n",
       "      <td>10.000000</td>\n",
       "      <td>10.000000</td>\n",
       "      <td>10.000000</td>\n",
       "    </tr>\n",
       "  </tbody>\n",
       "</table>\n",
       "</div>"
      ],
      "text/plain": [
       "       culmen_length_mm  culmen_depth_mm  flipper_length_mm  body_mass_g  \\\n",
       "count        342.000000       342.000000         342.000000   342.000000   \n",
       "mean           4.868995         5.340539           1.606807     4.754386   \n",
       "std            1.786773         2.115850           0.456941     2.004886   \n",
       "min            1.000000         1.000000           1.000000     1.000000   \n",
       "25%            3.331818         3.678571           1.564692     3.125000   \n",
       "50%            5.041818         5.500000           1.576968     4.375000   \n",
       "75%            6.367273         7.000000           1.606343     6.125000   \n",
       "max           10.000000        10.000000          10.000000    10.000000   \n",
       "\n",
       "            sex_n  \n",
       "count  342.000000  \n",
       "mean     5.596491  \n",
       "std      1.633875  \n",
       "min      1.000000  \n",
       "25%      4.000000  \n",
       "50%      7.000000  \n",
       "75%      7.000000  \n",
       "max     10.000000  "
      ]
     },
     "execution_count": 17,
     "metadata": {},
     "output_type": "execute_result"
    }
   ],
   "source": [
    "inputs=min_max(inputs)\n",
    "inputs.describe()"
   ]
  },
  {
   "cell_type": "code",
   "execution_count": 18,
   "id": "3a7541d1-aaa9-4fe9-b1b7-6a589eada25d",
   "metadata": {},
   "outputs": [],
   "source": [
    "from sklearn.cluster import KMeans"
   ]
  },
  {
   "cell_type": "code",
   "execution_count": 19,
   "id": "aa6455b2-215a-4205-a107-e4133df8bc24",
   "metadata": {},
   "outputs": [],
   "source": [
    "wcss = []\n",
    "for i in range(1, 11):\n",
    "    km = KMeans(n_clusters=i)\n",
    "    km.fit(inputs)\n",
    "    wcss.append(km.inertia_)\n"
   ]
  },
  {
   "cell_type": "code",
   "execution_count": 20,
   "id": "9ed83161-b6ad-46ed-9651-70ffafcdacbf",
   "metadata": {},
   "outputs": [
    {
     "data": {
      "text/plain": [
       "[4967.445876002708,\n",
       " 2748.2802257133912,\n",
       " 1905.7701035135083,\n",
       " 1369.658470396404,\n",
       " 1035.6731465285427,\n",
       " 958.159288381577,\n",
       " 790.049074064772,\n",
       " 751.952572281014,\n",
       " 685.1984091387558,\n",
       " 631.9688190205022]"
      ]
     },
     "execution_count": 20,
     "metadata": {},
     "output_type": "execute_result"
    }
   ],
   "source": [
    "wcss"
   ]
  },
  {
   "cell_type": "code",
   "execution_count": 30,
   "id": "2988bad4-0a0d-4103-adfa-8a1e6d4076fa",
   "metadata": {},
   "outputs": [
    {
     "data": {
      "text/plain": [
       "[<matplotlib.lines.Line2D at 0x1869df1a240>]"
      ]
     },
     "execution_count": 30,
     "metadata": {},
     "output_type": "execute_result"
    },
    {
     "data": {
      "image/png": "[encoded data removed]",
      "text/plain": [
       "<Figure size 640x480 with 1 Axes>"
      ]
     },
     "metadata": {},
     "output_type": "display_data"
    }
   ],
   "source": [
    "plt.plot(range(1,11),wcss)"
   ]
  },
  {
   "cell_type": "code",
   "execution_count": 31,
   "id": "37813434-e569-462f-a34c-6f65d3020770",
   "metadata": {},
   "outputs": [],
   "source": [
    "x=inputs.iloc[:,:].values\n",
    "km=KMeans(n_clusters=6)\n",
    "y_means=km.fit_predict(x)"
   ]
  },
  {
   "cell_type": "code",
   "execution_count": 32,
   "id": "39a9f1ff-e067-476f-a80b-42ab72c1c6d1",
   "metadata": {},
   "outputs": [
    {
     "data": {
      "text/plain": [
       "array([2, 1, 1, 1, 2, 1, 2, 2, 2, 2, 2, 1, 2, 2, 1, 1, 2, 1, 4, 1, 2, 1,\n",
       "       2, 2, 1, 2, 1, 1, 2, 1, 2, 1, 2, 1, 2, 2, 1, 1, 2, 1, 2, 1, 2, 1,\n",
       "       2, 2, 2, 1, 2, 1, 2, 1, 2, 1, 2, 1, 2, 1, 2, 1, 2, 1, 2, 1, 2, 1,\n",
       "       2, 1, 2, 1, 2, 1, 4, 1, 2, 1, 2, 1, 2, 1, 2, 1, 2, 1, 2, 2, 1, 2,\n",
       "       1, 1, 2, 1, 2, 1, 2, 1, 2, 1, 2, 1, 2, 1, 2, 1, 2, 1, 2, 1, 2, 1,\n",
       "       2, 1, 2, 2, 2, 1, 2, 1, 2, 1, 2, 1, 2, 1, 2, 1, 2, 1, 2, 1, 2, 1,\n",
       "       2, 1, 2, 1, 2, 1, 2, 1, 2, 1, 2, 1, 2, 2, 1, 1, 2, 1, 2, 1, 4, 4,\n",
       "       1, 4, 1, 1, 4, 4, 4, 1, 4, 1, 4, 1, 4, 4, 4, 1, 4, 1, 4, 1, 4, 1,\n",
       "       4, 4, 4, 1, 4, 1, 4, 1, 4, 4, 1, 4, 4, 1, 4, 4, 1, 4, 1, 4, 4, 4,\n",
       "       4, 4, 4, 1, 4, 1, 4, 1, 4, 1, 4, 4, 1, 4, 1, 1, 4, 1, 4, 4, 4, 3,\n",
       "       5, 3, 5, 0, 3, 3, 0, 3, 0, 3, 5, 3, 0, 3, 5, 3, 5, 3, 0, 0, 3, 3,\n",
       "       0, 3, 0, 0, 0, 3, 5, 0, 3, 3, 5, 3, 5, 3, 0, 3, 0, 3, 5, 3, 0, 5,\n",
       "       3, 3, 5, 3, 0, 3, 0, 3, 0, 3, 0, 3, 0, 3, 5, 3, 0, 3, 5, 3, 5, 0,\n",
       "       5, 3, 5, 3, 0, 0, 3, 3, 5, 3, 5, 3, 5, 3, 5, 3, 5, 3, 5, 3, 0, 3,\n",
       "       5, 3, 5, 3, 5, 3, 5, 0, 3, 3, 5, 3, 5, 3, 0, 0, 0, 3, 5, 3, 0, 3,\n",
       "       5, 3, 5, 3, 5, 3, 5, 3, 3, 5, 3, 5])"
      ]
     },
     "execution_count": 32,
     "metadata": {},
     "output_type": "execute_result"
    }
   ],
   "source": [
    "y_means"
   ]
  },
  {
   "cell_type": "markdown",
   "id": "95ef1cc9-c0ee-4573-9c5d-e5eea2f4e874",
   "metadata": {},
   "source": [
    "### PLOT"
   ]
  },
  {
   "cell_type": "code",
   "execution_count": 247,
   "id": "32b7777e-2d07-43f8-a5eb-c081ab31ff46",
   "metadata": {},
   "outputs": [],
   "source": [
    "x=inputs.iloc[:,0:5]\n",
    "\n"
   ]
  },
  {
   "cell_type": "code",
   "execution_count": 253,
   "id": "3ef1bf44-e178-435c-a014-1f3430a49cd8",
   "metadata": {},
   "outputs": [],
   "source": [
    "from sklearn.model_selection import train_test_split\n",
    "\n",
    "x_train,x_test=train_test_split(x,test_size=0.8,random_state=42)"
   ]
  },
  {
   "cell_type": "code",
   "execution_count": 255,
   "id": "0c49ca05-f9b5-4bae-936f-584844cdec39",
   "metadata": {},
   "outputs": [
    {
     "data": {
      "text/plain": [
       "(68, 5)"
      ]
     },
     "execution_count": 255,
     "metadata": {},
     "output_type": "execute_result"
    }
   ],
   "source": [
    "x_train.shape"
   ]
  },
  {
   "cell_type": "code",
   "execution_count": 257,
   "id": "55693c12-70ae-4d37-812a-dc36e8b30e99",
   "metadata": {},
   "outputs": [],
   "source": [
    "from sklearn.preprocessing import StandardScaler\n",
    "scaler=StandardScaler()"
   ]
  },
  {
   "cell_type": "code",
   "execution_count": 259,
   "id": "a700b64c-f098-40de-ab88-b1f80ac952f7",
   "metadata": {},
   "outputs": [],
   "source": [
    "x_train = scaler.fit_transform(x_train)\n",
    "x_test = scaler.transform(x_test)"
   ]
  },
  {
   "cell_type": "code",
   "execution_count": 261,
   "id": "113bb447-4608-47a2-80e1-7f5d06abf379",
   "metadata": {},
   "outputs": [],
   "source": [
    "from sklearn.decomposition import PCA\n",
    "pca=PCA(n_components=2)"
   ]
  },
  {
   "cell_type": "code",
   "execution_count": 263,
   "id": "aa027ced-1a43-4c7b-b283-5fb6d0d10263",
   "metadata": {},
   "outputs": [],
   "source": [
    "x_train=pca.fit_transform(x_train)"
   ]
  },
  {
   "cell_type": "code",
   "execution_count": 265,
   "id": "2cf568c7-a1b3-4f46-981a-cba8e3d74a8c",
   "metadata": {},
   "outputs": [
    {
     "data": {
      "text/plain": [
       "(68, 2)"
      ]
     },
     "execution_count": 265,
     "metadata": {},
     "output_type": "execute_result"
    }
   ],
   "source": [
    "x_train.shape"
   ]
  },
  {
   "cell_type": "code",
   "execution_count": 267,
   "id": "eba2cf02-826d-4d66-8759-dfc8e48de8a8",
   "metadata": {},
   "outputs": [],
   "source": [
    "wcss = []\n",
    "for i in range(1, 11):\n",
    "    km = KMeans(n_clusters=i)\n",
    "    km.fit(x_train)\n",
    "    wcss.append(km.inertia_)\n"
   ]
  },
  {
   "cell_type": "code",
   "execution_count": 269,
   "id": "6d7447e2-5819-4a6c-bd6f-aaa026608152",
   "metadata": {},
   "outputs": [
    {
     "data": {
      "text/plain": [
       "[249.68881281772266,\n",
       " 150.6169654808577,\n",
       " 89.63782678764643,\n",
       " 51.86234162809658,\n",
       " 36.161982210979225,\n",
       " 17.41884614035121,\n",
       " 16.717157195169886,\n",
       " 11.111648918818133,\n",
       " 9.65282317519642,\n",
       " 8.810969925353271]"
      ]
     },
     "execution_count": 269,
     "metadata": {},
     "output_type": "execute_result"
    }
   ],
   "source": [
    "wcss"
   ]
  },
  {
   "cell_type": "code",
   "execution_count": 271,
   "id": "c8691664-29ee-451a-8db4-45d3c2c122c6",
   "metadata": {},
   "outputs": [
    {
     "data": {
      "text/plain": [
       "[<matplotlib.lines.Line2D at 0x186a7def410>]"
      ]
     },
     "execution_count": 271,
     "metadata": {},
     "output_type": "execute_result"
    },
    {
     "data": {
      "image/png": "[encoded data removed]",
      "text/plain": [
       "<Figure size 640x480 with 1 Axes>"
      ]
     },
     "metadata": {},
     "output_type": "display_data"
    }
   ],
   "source": [
    "plt.plot(range(1,11),wcss)"
   ]
  },
  {
   "cell_type": "code",
   "execution_count": 273,
   "id": "e192af0b-e59e-486e-b329-aa2d9da4f020",
   "metadata": {},
   "outputs": [],
   "source": [
    "\n",
    "km=KMeans(n_clusters=4)\n",
    "y_means=km.fit_predict(x_train)"
   ]
  },
  {
   "cell_type": "code",
   "execution_count": 275,
   "id": "6dec932b-5cdd-495e-809e-0f73300984e5",
   "metadata": {},
   "outputs": [
    {
     "data": {
      "text/plain": [
       "array([2, 3, 3, 0, 0, 0, 2, 0, 3, 3, 3, 1, 2, 0, 3, 3, 3, 3, 1, 3, 1, 2,\n",
       "       3, 1, 0, 0, 1, 3, 0, 1, 2, 1, 2, 0, 1, 1, 1, 3, 0, 3, 3, 1, 1, 0,\n",
       "       2, 3, 0, 1, 2, 1, 0, 0, 2, 3, 1, 3, 3, 1, 2, 2, 3, 2, 1, 2, 3, 1,\n",
       "       2, 1])"
      ]
     },
     "execution_count": 275,
     "metadata": {},
     "output_type": "execute_result"
    }
   ],
   "source": [
    "y_means"
   ]
  },
  {
   "cell_type": "markdown",
   "id": "38687ae2-b356-42f5-baa3-1192fe17cfd1",
   "metadata": {},
   "source": [
    "### 4"
   ]
  },
  {
   "cell_type": "code",
   "execution_count": 277,
   "id": "15d1a5ac-b1d1-494c-af54-db9ca2c92d52",
   "metadata": {},
   "outputs": [
    {
     "data": {
      "text/plain": [
       "<matplotlib.collections.PathCollection at 0x186a7dd5d30>"
      ]
     },
     "execution_count": 277,
     "metadata": {},
     "output_type": "execute_result"
    },
    {
     "data": {
      "image/png": "[encoded data removed]",
      "text/plain": [
       "<Figure size 640x480 with 1 Axes>"
      ]
     },
     "metadata": {},
     "output_type": "display_data"
    }
   ],
   "source": [
    "plt.scatter(x_train[y_means==0,0],x_train[y_means==0,1],color='blue')\n",
    "#x and y coordinate of points in cluster \n",
    "plt.scatter(x_train[y_means==1,0],x_train[y_means==1,1],color='red')\n",
    "plt.scatter(x_train[y_means==2,0],x_train[y_means==2,1],color='green')\n",
    "plt.scatter(x_train[y_means==3,0],x_train[y_means==3,1],color='pink')\n"
   ]
  },
  {
   "cell_type": "code",
   "execution_count": 279,
   "id": "bb935cb0-d1f1-40a5-b1ee-5581f774ba49",
   "metadata": {},
   "outputs": [
    {
     "data": {
      "text/plain": [
       "array([1, 3, 3, 1, 3, 3, 1, 3, 1, 3, 3, 1, 1, 1, 3, 1, 3, 3, 3, 3, 3, 3,\n",
       "       1, 3, 3, 3, 1, 1, 3, 1, 3, 3, 3, 1, 3, 3, 1, 3, 1, 3, 3, 3, 1, 1,\n",
       "       3, 3, 1, 1, 3, 3, 3, 3, 3, 3, 3, 1, 3, 1, 1, 3, 3, 1, 1, 1, 3, 1,\n",
       "       3, 3, 3, 3, 3, 3, 1, 1, 1, 3, 1, 3, 3, 3, 3, 1, 3, 1, 3, 3, 3, 1,\n",
       "       3, 1, 1, 1, 1, 3, 1, 1, 3, 1, 3, 1, 3, 3, 3, 3, 1, 1, 3, 1, 3, 1,\n",
       "       3, 3, 3, 3, 3, 1, 1, 3, 3, 3, 1, 1, 3, 1, 1, 1, 1, 3, 3, 1, 3, 1,\n",
       "       1, 1, 3, 3, 1, 3, 3, 3, 3, 3, 3, 3, 3, 3, 3, 1, 1, 3, 3, 1, 3, 1,\n",
       "       1, 1, 1, 1, 1, 1, 3, 1, 3, 3, 1, 1, 1, 3, 3, 1, 3, 1, 1, 1, 1, 1,\n",
       "       1, 1, 3, 3, 3, 3, 3, 1, 3, 1, 1, 3, 1, 3, 3, 3, 1, 3, 3, 1, 3, 1,\n",
       "       1, 3, 1, 3, 1, 3, 3, 3, 3, 3, 3, 3, 1, 3, 1, 3, 1, 3, 3, 1, 1, 1,\n",
       "       3, 3, 0, 1, 1, 3, 3, 3, 3, 1, 3, 3, 1, 1, 1, 1, 1, 3, 1, 3, 3, 3,\n",
       "       3, 3, 3, 3, 3, 3, 1, 3, 3, 1, 3, 1, 3, 3, 3, 1, 1, 1, 1, 3, 3, 3,\n",
       "       1, 2, 3, 3, 3, 3, 1, 1, 1, 1])"
      ]
     },
     "execution_count": 279,
     "metadata": {},
     "output_type": "execute_result"
    }
   ],
   "source": [
    "x_test=pca.fit_transform(x_test)\n",
    "y_pred=km.predict(x_test)\n",
    "y_pred"
   ]
  },
  {
   "cell_type": "markdown",
   "id": "129f2b83-62f8-4021-a868-865a8e98aca4",
   "metadata": {},
   "source": [
    "### 5"
   ]
  },
  {
   "cell_type": "code",
   "execution_count": 281,
   "id": "0c088ea0-00c7-46ab-9701-c421cca0fa2f",
   "metadata": {},
   "outputs": [],
   "source": [
    "km=KMeans(n_clusters=5)\n",
    "y_means=km.fit_predict(x_train)"
   ]
  },
  {
   "cell_type": "code",
   "execution_count": 283,
   "id": "9a406897-5d7e-4ad4-a2a1-6a21d9617e54",
   "metadata": {},
   "outputs": [
    {
     "data": {
      "text/plain": [
       "<matplotlib.collections.PathCollection at 0x186a7dce120>"
      ]
     },
     "execution_count": 283,
     "metadata": {},
     "output_type": "execute_result"
    },
    {
     "data": {
      "image/png": "[encoded data removed]",
      "text/plain": [
       "<Figure size 640x480 with 1 Axes>"
      ]
     },
     "metadata": {},
     "output_type": "display_data"
    }
   ],
   "source": [
    "plt.scatter(x_train[y_means==0,0],x_train[y_means==0,1],color='blue')\n",
    "#x and y coordinate of points in cluster \n",
    "plt.scatter(x_train[y_means==1,0],x_train[y_means==1,1],color='red')\n",
    "plt.scatter(x_train[y_means==2,0],x_train[y_means==2,1],color='green')\n",
    "plt.scatter(x_train[y_means==3,0],x_train[y_means==3,1],color='pink')\n",
    "plt.scatter(x_train[y_means==4,0],x_train[y_means==4,1],color='purple')"
   ]
  },
  {
   "cell_type": "markdown",
   "id": "5a6d4e7f-370c-4d66-b72c-a9230f7f78dd",
   "metadata": {},
   "source": [
    "### 3"
   ]
  },
  {
   "cell_type": "code",
   "execution_count": 285,
   "id": "f62d0cf1-f83a-41a2-ab65-b99c5ad9496e",
   "metadata": {},
   "outputs": [],
   "source": [
    "km=KMeans(n_clusters=3)\n",
    "y_means=km.fit_predict(x_train)"
   ]
  },
  {
   "cell_type": "code",
   "execution_count": 287,
   "id": "0b87624e-bed8-4610-844b-635fecd9891b",
   "metadata": {},
   "outputs": [
    {
     "data": {
      "text/plain": [
       "<matplotlib.collections.PathCollection at 0x186a80191c0>"
      ]
     },
     "execution_count": 287,
     "metadata": {},
     "output_type": "execute_result"
    },
    {
     "data": {
      "image/png": "[encoded data removed]",
      "text/plain": [
       "<Figure size 640x480 with 1 Axes>"
      ]
     },
     "metadata": {},
     "output_type": "display_data"
    }
   ],
   "source": [
    "plt.scatter(x_train[y_means==0,0],x_train[y_means==0,1],color='blue')\n",
    "#x and y coordinate of points in cluster \n",
    "plt.scatter(x_train[y_means==1,0],x_train[y_means==1,1],color='red')\n",
    "plt.scatter(x_train[y_means==2,0],x_train[y_means==2,1],color='green')\n",
    "\n"
   ]
  },
  {
   "cell_type": "markdown",
   "id": "c95bf25b-6d46-48d2-bc38-85ca2455c71b",
   "metadata": {},
   "source": [
    "### 6"
   ]
  },
  {
   "cell_type": "code",
   "execution_count": 289,
   "id": "667ac34b-d4ba-4dc9-8e2e-4adc45508056",
   "metadata": {},
   "outputs": [],
   "source": [
    "km=KMeans(n_clusters=6)\n",
    "y_means=km.fit_predict(x_train)"
   ]
  },
  {
   "cell_type": "code",
   "execution_count": 291,
   "id": "c7cc1fdf-ce1d-423b-9bbe-88ac38faa6dd",
   "metadata": {},
   "outputs": [
    {
     "data": {
      "text/plain": [
       "<matplotlib.collections.PathCollection at 0x186a7dc0f20>"
      ]
     },
     "execution_count": 291,
     "metadata": {},
     "output_type": "execute_result"
    },
    {
     "data": {
      "image/png": "[encoded data removed]",
      "text/plain": [
       "<Figure size 640x480 with 1 Axes>"
      ]
     },
     "metadata": {},
     "output_type": "display_data"
    }
   ],
   "source": [
    "plt.scatter(x_train[y_means==0,0],x_train[y_means==0,1],color='blue')\n",
    "#x and y coordinate of points in cluster \n",
    "plt.scatter(x_train[y_means==1,0],x_train[y_means==1,1],color='red')\n",
    "plt.scatter(x_train[y_means==2,0],x_train[y_means==2,1],color='green')\n",
    "plt.scatter(x_train[y_means==3,0],x_train[y_means==3,1],color='pink')\n",
    "plt.scatter(x_train[y_means==4,0],x_train[y_means==4,1],color='purple')\n",
    "plt.scatter(x_train[y_means==5,0],x_train[y_means==5,1],color='orange')"
   ]
  },
  {
   "cell_type": "code",
   "execution_count": null,
   "id": "e64484f1-5bd1-4524-b2f6-28fc02558e15",
   "metadata": {},
   "outputs": [],
   "source": []
  },
  {
   "cell_type": "code",
   "execution_count": null,
   "id": "8e5b8881-fdfb-4cb4-8264-3bd8969ab00b",
   "metadata": {},
   "outputs": [],
   "source": []
  },
  {
   "cell_type": "code",
   "execution_count": null,
   "id": "e92f6867-52c9-4e58-914c-cf56a59dfebd",
   "metadata": {},
   "outputs": [],
   "source": []
  }
 ],
 "metadata": {
  "kernelspec": {
   "display_name": "Python 3 (ipykernel)",
   "language": "python",
   "name": "python3"
  },
  "language_info": {
   "codemirror_mode": {
    "name": "ipython",
    "version": 3
   },
   "file_extension": ".py",
   "mimetype": "text/x-python",
   "name": "python",
   "nbconvert_exporter": "python",
   "pygments_lexer": "ipython3",
   "version": "3.12.4"
  }
 },
 "nbformat": 4,
 "nbformat_minor": 5
}
